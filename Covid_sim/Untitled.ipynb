{
 "cells": [
  {
   "cell_type": "code",
   "execution_count": 286,
   "metadata": {},
   "outputs": [],
   "source": [
    "import numpy as ns\n",
    "from scipy import integrate\n",
    "\n",
    "def infs_by_contact(y, t, contacts_per_day\n",
    "                      ,infection_rate):\n",
    "    \n",
    "    dy = y*contacts_per_day*infection_rate\n",
    "    return dy"
   ]
  },
  {
   "cell_type": "code",
   "execution_count": 350,
   "metadata": {},
   "outputs": [],
   "source": [
    "contacts_per_day_max = 20\n",
    "inf_mean_stddev = [0.05, 0.002]\n",
    "\n",
    "start_cases = 1\n",
    "sim_days = 31\n",
    "sim_range = list(range(0, sim_days+1))\n",
    "i = 0\n",
    "for day in sim_range:\n",
    "    i = i + 2\n",
    "    contacts_made = []\n",
    "    contacts_made.append(np.random.randint(1, contacts_per_day_max+1))\n",
    "    \n",
    "    infection_rates = []\n",
    "    infection_rates.append(np.random.normal(inf_mean_stddev[0], inf_mean_stddev[1]))\n",
    "\n",
    "covids = integrate.odeint(infs_by_contact\n",
    "                         ,start_cases\n",
    "                         ,sim_range\n",
    "                         ,args=(contacts_made\n",
    "                               ,infection_rates))"
   ]
  },
  {
   "cell_type": "code",
   "execution_count": 351,
   "metadata": {},
   "outputs": [],
   "source": [
    "from matplotlib import pyplot as plotter\n",
    "%matplotlib qt\n",
    "figManager = plotter.get_current_fig_manager()\n",
    "figManager.window.showMaximized()\n",
    "plt.plot(covids)\n",
    "plotter.grid(b=True, which='both', axis='y')"
   ]
  }
 ],
 "metadata": {
  "kernelspec": {
   "display_name": "Python 3",
   "language": "python",
   "name": "python3"
  },
  "language_info": {
   "codemirror_mode": {
    "name": "ipython",
    "version": 3
   },
   "file_extension": ".py",
   "mimetype": "text/x-python",
   "name": "python",
   "nbconvert_exporter": "python",
   "pygments_lexer": "ipython3",
   "version": "3.6.9"
  }
 },
 "nbformat": 4,
 "nbformat_minor": 2
}
