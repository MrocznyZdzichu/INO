{
 "cells": [
  {
   "cell_type": "markdown",
   "metadata": {
    "colab_type": "text",
    "id": "24duCd3Ccs9A"
   },
   "source": [
    "# Wykład 3\n",
    "\n",
    "Plan\n",
    "*   Klasy i obiekty\n",
    "*   Wyjątki"
   ]
  },
  {
   "cell_type": "markdown",
   "metadata": {
    "colab_type": "text",
    "id": "z_AU-50adwRz"
   },
   "source": [
    "# Klasy i obiekty"
   ]
  },
  {
   "cell_type": "markdown",
   "metadata": {
    "colab_type": "text",
    "id": "56crANC2d0bt"
   },
   "source": [
    "## Tworzenie klasy\n",
    "\n",
    "Tworzenie pustej klasy Point oraz jej instancji p1:"
   ]
  },
  {
   "cell_type": "code",
   "execution_count": 0,
   "metadata": {
    "colab": {},
    "colab_type": "code",
    "id": "fPYUGd35cp3h"
   },
   "outputs": [],
   "source": [
    "class Point:\n",
    "  pass\n",
    "\n",
    "p1 = Point()"
   ]
  },
  {
   "cell_type": "markdown",
   "metadata": {
    "colab_type": "text",
    "id": "aeCBNHpkeWHZ"
   },
   "source": [
    "Klasa składa się z atrybutów oraz funkcji. Atrybuty mogą dotyczyć: \n",
    "*   całej klasy (odpowiednik składowych statycznych C++) - definiowane bezposrednio w kodzie klasy\n",
    "*   instancji - mogą byc zdefiniowane w dowolnej funkcji\n",
    "\n",
    "Składowe klasy mogą byc dodawane dynamicznie również poza klasą, jednak nie jest to zalecana praktyka\n",
    "\n",
    "Metody definiowane są analogicznie jak funkcje, różnica polega na tym że pierwszym arguemntem metody musi być referencja do obiektu - zwyczajowo self. Referencja ta jest pomijana w wywołaniu."
   ]
  },
  {
   "cell_type": "code",
   "execution_count": 0,
   "metadata": {
    "colab": {
     "base_uri": "https://localhost:8080/",
     "height": 35
    },
    "colab_type": "code",
    "executionInfo": {
     "elapsed": 706,
     "status": "ok",
     "timestamp": 1579516502498,
     "user": {
      "displayName": "Łukasz Chechliński",
      "photoUrl": "",
      "userId": "07837534383626258802"
     },
     "user_tz": -60
    },
    "id": "BQCNKEv1crYH",
    "outputId": "11d79a9e-c1a0-4ece-aa0a-4e953a5de565"
   },
   "outputs": [
    {
     "name": "stdout",
     "output_type": "stream",
     "text": [
      "0 0\n"
     ]
    }
   ],
   "source": [
    "class Point:\n",
    "  def reset(self):\n",
    "    self.x = 0\n",
    "    self.y = 0\n",
    "\n",
    "p = Point()\n",
    "p.reset()\n",
    "print(p.x, p.y)"
   ]
  },
  {
   "cell_type": "markdown",
   "metadata": {
    "colab_type": "text",
    "id": "1rUgJY5MhfHz"
   },
   "source": [
    "Referencja obiektu wywołujacego jest przekazywana jako pierwszy arguemnt pozycyjny, wiec jej brak w kodzie ponizej skutkuje błędem niepoprawnej liczby argumentów:"
   ]
  },
  {
   "cell_type": "code",
   "execution_count": 0,
   "metadata": {
    "colab": {
     "base_uri": "https://localhost:8080/",
     "height": 228
    },
    "colab_type": "code",
    "executionInfo": {
     "elapsed": 894,
     "status": "error",
     "timestamp": 1579516533218,
     "user": {
      "displayName": "Łukasz Chechliński",
      "photoUrl": "",
      "userId": "07837534383626258802"
     },
     "user_tz": -60
    },
    "id": "-z4N7EBnhR6Z",
    "outputId": "216957d6-1550-4dc5-dca7-9b11480276b0"
   },
   "outputs": [
    {
     "ename": "TypeError",
     "evalue": "ignored",
     "output_type": "error",
     "traceback": [
      "\u001b[0;31m---------------------------------------------------------------------------\u001b[0m",
      "\u001b[0;31mTypeError\u001b[0m                                 Traceback (most recent call last)",
      "\u001b[0;32m<ipython-input-3-c510d15f60a1>\u001b[0m in \u001b[0;36m<module>\u001b[0;34m()\u001b[0m\n\u001b[1;32m      5\u001b[0m \u001b[0;34m\u001b[0m\u001b[0m\n\u001b[1;32m      6\u001b[0m \u001b[0mp\u001b[0m \u001b[0;34m=\u001b[0m \u001b[0mPoint\u001b[0m\u001b[0;34m(\u001b[0m\u001b[0;34m)\u001b[0m\u001b[0;34m\u001b[0m\u001b[0;34m\u001b[0m\u001b[0m\n\u001b[0;32m----> 7\u001b[0;31m \u001b[0mp\u001b[0m\u001b[0;34m.\u001b[0m\u001b[0mreset\u001b[0m\u001b[0;34m(\u001b[0m\u001b[0;34m)\u001b[0m\u001b[0;34m\u001b[0m\u001b[0;34m\u001b[0m\u001b[0m\n\u001b[0m\u001b[1;32m      8\u001b[0m \u001b[0mprint\u001b[0m\u001b[0;34m(\u001b[0m\u001b[0mp\u001b[0m\u001b[0;34m.\u001b[0m\u001b[0mx\u001b[0m\u001b[0;34m,\u001b[0m \u001b[0mp\u001b[0m\u001b[0;34m.\u001b[0m\u001b[0my\u001b[0m\u001b[0;34m)\u001b[0m\u001b[0;34m\u001b[0m\u001b[0;34m\u001b[0m\u001b[0m\n",
      "\u001b[0;31mTypeError\u001b[0m: reset() takes 0 positional arguments but 1 was given"
     ]
    }
   ],
   "source": [
    "class Point:\n",
    "  def reset():  #brak referencji\n",
    "    self.x = 0\n",
    "    self.y = 0\n",
    "\n",
    "p = Point()\n",
    "p.reset()\n",
    "print(p.x, p.y)"
   ]
  },
  {
   "cell_type": "markdown",
   "metadata": {
    "colab_type": "text",
    "id": "jI0V0W5NhurV"
   },
   "source": [
    "W Pythonie istnieje kilka nazw funkcji o specjalnym znaczeniu, rozpoczynających sie i kończących podwójnym podkreślnikiem. Jedna z nich jest \\_\\_init\\_\\_ - odpowiednik konstruktora w C++. Inna to \\_\\_str\\_\\_, odpwoiedzialna za konwersję obiektu do ciagu znaków (np. celem wypisania)"
   ]
  },
  {
   "cell_type": "code",
   "execution_count": 0,
   "metadata": {
    "colab": {
     "base_uri": "https://localhost:8080/",
     "height": 35
    },
    "colab_type": "code",
    "executionInfo": {
     "elapsed": 1531,
     "status": "ok",
     "timestamp": 1579681742698,
     "user": {
      "displayName": "Łukasz Chechliński",
      "photoUrl": "",
      "userId": "07837534383626258802"
     },
     "user_tz": -60
    },
    "id": "Pjj4xMLhhZXQ",
    "outputId": "ec9f324c-fbd7-498f-a0b2-6e47419554f5"
   },
   "outputs": [
    {
     "name": "stdout",
     "output_type": "stream",
     "text": [
      "species: homo sapiens, name: Jan, age: 35\n"
     ]
    }
   ],
   "source": [
    "import datetime\n",
    "\n",
    "class Human:\n",
    "  \"\"\"A class representing human being\"\"\"\n",
    "  spec = 'homo sapiens'\n",
    "  def __init__(self, name, birth_year):\n",
    "    self.name = name\n",
    "    self.birth_year = birth_year\n",
    "  def get_age(self):\n",
    "    return datetime.datetime.now().year - self.birth_year\n",
    "  def __str__(self):\n",
    "    return 'species: {}, name: {}, age: {}'.format(self.spec, \n",
    "                                                   self.name, self.get_age())\n",
    "\n",
    "h = Human('Jan', 1985)\n",
    "print(h)"
   ]
  },
  {
   "cell_type": "markdown",
   "metadata": {
    "colab_type": "text",
    "id": "hgNIak0ukbmf"
   },
   "source": [
    "Klasy Python posiadają szereg atrybutów specjalnych, których nie musimy edytować:"
   ]
  },
  {
   "cell_type": "code",
   "execution_count": 0,
   "metadata": {
    "colab": {
     "base_uri": "https://localhost:8080/",
     "height": 823
    },
    "colab_type": "code",
    "executionInfo": {
     "elapsed": 2003,
     "status": "ok",
     "timestamp": 1579681750198,
     "user": {
      "displayName": "Łukasz Chechliński",
      "photoUrl": "",
      "userId": "07837534383626258802"
     },
     "user_tz": -60
    },
    "id": "IA-xEmpTjate",
    "outputId": "7e7ec755-32b3-486e-8ec8-b5dd28627896"
   },
   "outputs": [
    {
     "name": "stdout",
     "output_type": "stream",
     "text": [
      "Słownik zawierajacy przestrzeń nazw danej klasy:\n",
      " {'__module__': '__main__', '__doc__': 'A class representing human being', 'spec': 'homo sapiens', '__init__': <function Human.__init__ at 0x7fcbbb1e0840>, 'get_age': <function Human.get_age at 0x7fcbbb1e91e0>, '__str__': <function Human.__str__ at 0x7fcbbb1e9378>, '__dict__': <attribute '__dict__' of 'Human' objects>, '__weakref__': <attribute '__weakref__' of 'Human' objects>}\n",
      "Łańcuch dokuemntacyjny klasy:\n",
      " A class representing human being\n",
      "Nazwa klasy:\n",
      " Human\n",
      "Nazwa modułu, w którym zdefiniowano klasę:\n",
      " __main__\n",
      "Krotka zawierająca klasy nadrzędne:\n",
      " <class 'object'>\n",
      "Słownik zawierajacy przestrzeń nazw danej instancji:\n",
      " {'name': 'Jan', 'birth_year': 1985}\n",
      "Klasa obiektu\n",
      ": <class '__main__.Human'>\n",
      "Metoda dir():\n"
     ]
    },
    {
     "data": {
      "text/plain": [
       "['__class__',\n",
       " '__delattr__',\n",
       " '__dict__',\n",
       " '__dir__',\n",
       " '__doc__',\n",
       " '__eq__',\n",
       " '__format__',\n",
       " '__ge__',\n",
       " '__getattribute__',\n",
       " '__gt__',\n",
       " '__hash__',\n",
       " '__init__',\n",
       " '__init_subclass__',\n",
       " '__le__',\n",
       " '__lt__',\n",
       " '__module__',\n",
       " '__ne__',\n",
       " '__new__',\n",
       " '__reduce__',\n",
       " '__reduce_ex__',\n",
       " '__repr__',\n",
       " '__setattr__',\n",
       " '__sizeof__',\n",
       " '__str__',\n",
       " '__subclasshook__',\n",
       " '__weakref__',\n",
       " 'get_age',\n",
       " 'spec']"
      ]
     },
     "execution_count": 10,
     "metadata": {
      "tags": []
     },
     "output_type": "execute_result"
    }
   ],
   "source": [
    "print('Słownik zawierajacy przestrzeń nazw danej klasy:\\n', Human.__dict__)\n",
    "print('Łańcuch dokuemntacyjny klasy:\\n', Human.__doc__)\n",
    "print('Nazwa klasy:\\n', Human.__name__)\n",
    "print('Nazwa modułu, w którym zdefiniowano klasę:\\n', Human.__module__)\n",
    "print('Krotka zawierająca klasy nadrzędne:\\n', Human.__base__)\n",
    "\n",
    "print('Słownik zawierajacy przestrzeń nazw danej instancji:\\n', h.__dict__)\n",
    "print('Klasa obiektu\\n:', h.__class__)\n",
    "print('Metoda dir():')\n",
    "dir(Human)"
   ]
  },
  {
   "cell_type": "markdown",
   "metadata": {
    "colab_type": "text",
    "id": "2oPVO6oumGYs"
   },
   "source": [
    "W Pythonie nia ma pól prywatnych w ścisłym sensie. Możliwe jest rozpoczynanie nazw pól podwójnym podkreślnikiem, wtedy zostaną one ukryte przez interpreter - jednak dostęp do nich będzie znacznie łatwiejszy niz w C++ (mocniejsze zabezpieczenia nie miały by zresztą sensu, skoro kod Pythona jest interpretowaly, a wiec każdy uzytkownik mozę go edytować, zobacz https://stackoverflow.com/questions/1641219/does-python-have-private-variables-in-classes\n",
    ")."
   ]
  },
  {
   "cell_type": "code",
   "execution_count": 0,
   "metadata": {
    "colab": {},
    "colab_type": "code",
    "id": "hoLvRo-PksO6"
   },
   "outputs": [],
   "source": [
    "class SimpleClass:\n",
    "  def __init__(self):\n",
    "    self.__my_secret = 'I like cookies'\n",
    "\n",
    "s = SimpleClass"
   ]
  },
  {
   "cell_type": "code",
   "execution_count": 0,
   "metadata": {
    "colab": {
     "base_uri": "https://localhost:8080/",
     "height": 173
    },
    "colab_type": "code",
    "executionInfo": {
     "elapsed": 831,
     "status": "error",
     "timestamp": 1579517976042,
     "user": {
      "displayName": "Łukasz Chechliński",
      "photoUrl": "",
      "userId": "07837534383626258802"
     },
     "user_tz": -60
    },
    "id": "iqUGyb1Jm1Wx",
    "outputId": "303a3646-805d-4374-a58e-65f47284f030"
   },
   "outputs": [
    {
     "ename": "AttributeError",
     "evalue": "ignored",
     "output_type": "error",
     "traceback": [
      "\u001b[0;31m---------------------------------------------------------------------------\u001b[0m",
      "\u001b[0;31mAttributeError\u001b[0m                            Traceback (most recent call last)",
      "\u001b[0;32m<ipython-input-20-a4bf8fa55a71>\u001b[0m in \u001b[0;36m<module>\u001b[0;34m()\u001b[0m\n\u001b[0;32m----> 1\u001b[0;31m \u001b[0mprint\u001b[0m\u001b[0;34m(\u001b[0m\u001b[0ms\u001b[0m\u001b[0;34m.\u001b[0m\u001b[0m__my_secret\u001b[0m\u001b[0;34m)\u001b[0m\u001b[0;34m\u001b[0m\u001b[0;34m\u001b[0m\u001b[0m\n\u001b[0m",
      "\u001b[0;31mAttributeError\u001b[0m: type object 'SimpleClass' has no attribute '__my_secret'"
     ]
    }
   ],
   "source": [
    "print(s.__my_secret)"
   ]
  },
  {
   "cell_type": "markdown",
   "metadata": {
    "colab_type": "text",
    "id": "7uhg-Ov5nqYI"
   },
   "source": [
    "Poprzez specjalne nazwy funkcji definiować można również wynik działania operatorów na obiekcie.\n",
    "\n",
    "Przy okazji warto zwrócić uwagę, że do inicjalizatorów stosuje się takie same zasady argumentów domyślnych jak do innych funkcji. "
   ]
  },
  {
   "cell_type": "code",
   "execution_count": 0,
   "metadata": {
    "colab": {
     "base_uri": "https://localhost:8080/",
     "height": 108
    },
    "colab_type": "code",
    "executionInfo": {
     "elapsed": 888,
     "status": "ok",
     "timestamp": 1579518741781,
     "user": {
      "displayName": "Łukasz Chechliński",
      "photoUrl": "",
      "userId": "07837534383626258802"
     },
     "user_tz": -60
    },
    "id": "aGghEiw9m-KO",
    "outputId": "d47bba29-e201-4d1d-cc8e-1e061d2f76cc"
   },
   "outputs": [
    {
     "name": "stdout",
     "output_type": "stream",
     "text": [
      "54zł 70gr\n",
      "2zł 34gr\n",
      "False\n",
      "True\n",
      "False\n"
     ]
    }
   ],
   "source": [
    "class PLN:\n",
    "  def __init__(self, zloty=0, groszy=0):\n",
    "    self.zloty = zloty + groszy // 100\n",
    "    self.groszy = groszy % 100\n",
    "  def __str__(self):\n",
    "    return '{}zł {}gr'.format(self.zloty, self.groszy)\n",
    "  def __eq__(self, other):\n",
    "    return self.zloty == other.zloty and self.groszy == other.groszy\n",
    "  def __lt__(self, other):\n",
    "    return self.zloty < other.zloty or (self.zloty == other.zloty and \n",
    "                                        self.groszy < other.groszy)\n",
    "\n",
    "portfel = PLN(54, 70)\n",
    "print(portfel)\n",
    "kieszen = PLN(groszy=234)\n",
    "print(kieszen)\n",
    "print(kieszen == portfel)\n",
    "print(kieszen < portfel)\n",
    "print(kieszen > portfel)  # Warto zwrócic uwagę na przemiennośc,\n",
    "# jeśli obie instancje są tej samej klasy"
   ]
  },
  {
   "cell_type": "markdown",
   "metadata": {
    "colab_type": "text",
    "id": "DThNQhYUqDGg"
   },
   "source": [
    "Możliwe jest definiowanie metod klas (z dekoratorem wbudowanym @classmethod i referencja do klasy cls) oraz metod statycznych (dekorator wbudowany @staticmethod).\n",
    "\n",
    "Metody klasy mają dostęp do klasy, mogą m.in. modyfikować składowe klasy, są stosowane np. we wzorcu fabryki obiektów.\n",
    "\n",
    "Metody statyczne nie mają dostępu do składowych klasy, są to zwykle funkcje użytkowe pasujace do klasy ze wzgledu na przejrzystośc kodu. \n",
    "\n",
    "Więcej informacji: https://www.geeksforgeeks.org/class-method-vs-static-method-python/"
   ]
  },
  {
   "cell_type": "code",
   "execution_count": 0,
   "metadata": {
    "colab": {
     "base_uri": "https://localhost:8080/",
     "height": 54
    },
    "colab_type": "code",
    "executionInfo": {
     "elapsed": 915,
     "status": "ok",
     "timestamp": 1579675027580,
     "user": {
      "displayName": "Łukasz Chechliński",
      "photoUrl": "",
      "userId": "07837534383626258802"
     },
     "user_tz": -60
    },
    "id": "JUQrJCpLolqo",
    "outputId": "9127cb1c-88f5-410f-b1c9-6e598d53f040"
   },
   "outputs": [
    {
     "name": "stdout",
     "output_type": "stream",
     "text": [
      "Species name: homo sapiens, average live duration: 80\n",
      "False\n"
     ]
    }
   ],
   "source": [
    "import datetime\n",
    "\n",
    "class Human:\n",
    "  \"\"\"A class representing human being\"\"\"\n",
    "  spec = 'homo sapiens'\n",
    "  average_livetime = 80\n",
    "  def __init__(self, name, birth_year):\n",
    "    self.name = name\n",
    "    self.birth_year = birth_year\n",
    "  def get_age(self):\n",
    "    return datetime.datetime.now().year - self.birth_year\n",
    "  def __str__(self):\n",
    "    return 'species: {}, name: {}, age: {}'.format(self.spec, \n",
    "                                                   self.name, self.get_age())\n",
    "  @classmethod\n",
    "  def print_spec_info(cls):\n",
    "    print('Species name: {}, average live duration: {}'.format(cls.spec, \n",
    "                                                               cls.average_livetime))\n",
    "    \n",
    "  @staticmethod\n",
    "  def may_be_classmates(h1, h2):\n",
    "    return h1.birth_year == h2.birth_year\n",
    "\n",
    "Human.print_spec_info()\n",
    "\n",
    "adam = Human('Adam', 1990)\n",
    "anna = Human('Anna', 2001)\n",
    "print(Human.may_be_classmates(adam, anna))"
   ]
  },
  {
   "cell_type": "markdown",
   "metadata": {
    "colab_type": "text",
    "id": "uEXWcILvw8rU"
   },
   "source": [
    "## Dziedziczenie\n",
    "\n",
    "Klasy bazowe podaje się w nawiasie po nazwie klasy. Do odwołania do klasy bazowej służy słowo kluczowe super."
   ]
  },
  {
   "cell_type": "code",
   "execution_count": 0,
   "metadata": {
    "colab": {
     "base_uri": "https://localhost:8080/",
     "height": 35
    },
    "colab_type": "code",
    "executionInfo": {
     "elapsed": 1641,
     "status": "ok",
     "timestamp": 1579675050724,
     "user": {
      "displayName": "Łukasz Chechliński",
      "photoUrl": "",
      "userId": "07837534383626258802"
     },
     "user_tz": -60
    },
    "id": "54GrHEq4u5lj",
    "outputId": "db4b177a-2ff6-4c9e-9afa-1d43f36355c0"
   },
   "outputs": [
    {
     "name": "stdout",
     "output_type": "stream",
     "text": [
      "species: homo sapiens, name: Piotr, age: 25, faculty: Mechatronics\n"
     ]
    }
   ],
   "source": [
    "class Student(Human):\n",
    "  def __init__(self, name, birth_year, faculty):\n",
    "    super(Student, self).__init__(name, birth_year)\n",
    "    self.faculty = faculty\n",
    "  def __str__(self):\n",
    "    return '{}, faculty: {}'.format(super(Student, self).__str__(), self.faculty)\n",
    "\n",
    "s = Student('Piotr', 1995, 'Mechatronics')\n",
    "print(s)"
   ]
  },
  {
   "cell_type": "markdown",
   "metadata": {
    "colab_type": "text",
    "id": "4RxoMFbJ-Q4T"
   },
   "source": [
    "W Pythonie istnieje możliwość sprawdzenia, czy jedna klasa dziedziczy po drugiej (metoda issubclass) oraz czy dany obiekt jest instancją wskazanej klasy (metoda isinstance).\n",
    "\n",
    "Nadużywanie takiej ręcznej kontroli typów nie jest jednak wskazane, gdyż jest to niezgodne z fiolozofią Pythona (zwykle wynika z przyzwyczajenia do metod programowania w C==/Javie).\n",
    "\n",
    "Warto podkreślić, że w języku Python tożsamość nazw metod pozwala na ich wywołanie u obiektów różnych klas w tej samej instrukcji -- nie jest konieczne dziedziczenie po wspólnej klasie bazowej."
   ]
  },
  {
   "cell_type": "code",
   "execution_count": 0,
   "metadata": {
    "colab": {
     "base_uri": "https://localhost:8080/",
     "height": 54
    },
    "colab_type": "code",
    "executionInfo": {
     "elapsed": 853,
     "status": "ok",
     "timestamp": 1579675818419,
     "user": {
      "displayName": "Łukasz Chechliński",
      "photoUrl": "",
      "userId": "07837534383626258802"
     },
     "user_tz": -60
    },
    "id": "pFyidgft96q4",
    "outputId": "0004a11a-afc4-4863-a75b-be69b2fa623b"
   },
   "outputs": [
    {
     "name": "stdout",
     "output_type": "stream",
     "text": [
      "Hau, hau!\n",
      "Miaaauuu...\n"
     ]
    }
   ],
   "source": [
    "class Dog():\n",
    "  def __init__(self):\n",
    "    self.hello_text = 'Hau, hau!'\n",
    "  def say_hello(self):\n",
    "    print(self.hello_text)\n",
    "\n",
    "# Nie zdefiniowaliśmy klasy bazowej Animal\n",
    "# implementacje klas są różne, wspólna jest tylko nazwa metody\n",
    "class Cat():\n",
    "  def say_hello(self):\n",
    "    print('Miaaauuu...')\n",
    "\n",
    "animals = [Dog(), Cat()]\n",
    "for animal in animals:\n",
    "  animal.say_hello()"
   ]
  },
  {
   "cell_type": "markdown",
   "metadata": {
    "colab_type": "text",
    "id": "XVKWszbZXtwJ"
   },
   "source": [
    "# Wyjątki\n",
    "\n",
    "Obsługa wyjatków jest bardzo ważna z punktu widzenia stabilności i bezpieczeństwa kodu - co jest kluczowe w robotyce"
   ]
  },
  {
   "cell_type": "markdown",
   "metadata": {
    "colab_type": "text",
    "id": "8bHJLF6ObHit"
   },
   "source": [
    "## Rodzaje wyjątków\n",
    "\n",
    "Podstawową klasą wyjatków jest **Exception**, dziedziczą po niej wszystkie wyjatki wbudowane. Najważniejsze z nich zostana przedstawione ponizej. Możliwe jest tworzenie własnych wyjatków, jednak nie jest to konieczne w prostych programach - w razie konieczności warto lepiej zapoznać się z pełną listą wyjątków wbudowanych."
   ]
  },
  {
   "cell_type": "code",
   "execution_count": 0,
   "metadata": {
    "colab": {
     "base_uri": "https://localhost:8080/",
     "height": 173
    },
    "colab_type": "code",
    "executionInfo": {
     "elapsed": 1524,
     "status": "error",
     "timestamp": 1579682042736,
     "user": {
      "displayName": "Łukasz Chechliński",
      "photoUrl": "",
      "userId": "07837534383626258802"
     },
     "user_tz": -60
    },
    "id": "ZPdu8XbFAr-7",
    "outputId": "7caa2f22-a4c4-44c5-abfb-52caa5d66102"
   },
   "outputs": [
    {
     "ename": "ZeroDivisionError",
     "evalue": "ignored",
     "output_type": "error",
     "traceback": [
      "\u001b[0;31m---------------------------------------------------------------------------\u001b[0m",
      "\u001b[0;31mZeroDivisionError\u001b[0m                         Traceback (most recent call last)",
      "\u001b[0;32m<ipython-input-13-0c17cfb38d1b>\u001b[0m in \u001b[0;36m<module>\u001b[0;34m()\u001b[0m\n\u001b[0;32m----> 1\u001b[0;31m \u001b[0;36m10.\u001b[0m\u001b[0;34m/\u001b[0m\u001b[0;36m0.\u001b[0m\u001b[0;34m\u001b[0m\u001b[0;34m\u001b[0m\u001b[0m\n\u001b[0m",
      "\u001b[0;31mZeroDivisionError\u001b[0m: float division by zero"
     ]
    }
   ],
   "source": [
    "10./0."
   ]
  },
  {
   "cell_type": "markdown",
   "metadata": {
    "colab_type": "text",
    "id": "LLoGYDWPamYn"
   },
   "source": [
    "**OverflowError**, **ZeroDivisionError** i **FloatingPointError** dziedziczą po **ArithmeticError**"
   ]
  },
  {
   "cell_type": "code",
   "execution_count": 0,
   "metadata": {
    "colab": {
     "base_uri": "https://localhost:8080/",
     "height": 173
    },
    "colab_type": "code",
    "executionInfo": {
     "elapsed": 1668,
     "status": "error",
     "timestamp": 1579682035362,
     "user": {
      "displayName": "Łukasz Chechliński",
      "photoUrl": "",
      "userId": "07837534383626258802"
     },
     "user_tz": -60
    },
    "id": "70gFLmWJYfsP",
    "outputId": "ca3bf54a-e062-488e-e72e-6964505fc13f"
   },
   "outputs": [
    {
     "ename": "TypeError",
     "evalue": "ignored",
     "output_type": "error",
     "traceback": [
      "\u001b[0;31m---------------------------------------------------------------------------\u001b[0m",
      "\u001b[0;31mTypeError\u001b[0m                                 Traceback (most recent call last)",
      "\u001b[0;32m<ipython-input-12-82fc87635b62>\u001b[0m in \u001b[0;36m<module>\u001b[0;34m()\u001b[0m\n\u001b[0;32m----> 1\u001b[0;31m \u001b[0;34m'abc'\u001b[0m \u001b[0;34m>\u001b[0m \u001b[0;36m10\u001b[0m\u001b[0;34m\u001b[0m\u001b[0;34m\u001b[0m\u001b[0m\n\u001b[0m",
      "\u001b[0;31mTypeError\u001b[0m: '>' not supported between instances of 'str' and 'int'"
     ]
    }
   ],
   "source": [
    "'abc' > 10"
   ]
  },
  {
   "cell_type": "code",
   "execution_count": 0,
   "metadata": {
    "colab": {
     "base_uri": "https://localhost:8080/",
     "height": 192
    },
    "colab_type": "code",
    "executionInfo": {
     "elapsed": 877,
     "status": "error",
     "timestamp": 1579682068456,
     "user": {
      "displayName": "Łukasz Chechliński",
      "photoUrl": "",
      "userId": "07837534383626258802"
     },
     "user_tz": -60
    },
    "id": "S6KQIwRiYu99",
    "outputId": "bbbcb22d-4dd9-4ded-d29d-67f44633bdeb"
   },
   "outputs": [
    {
     "ename": "IndexError",
     "evalue": "ignored",
     "output_type": "error",
     "traceback": [
      "\u001b[0;31m---------------------------------------------------------------------------\u001b[0m",
      "\u001b[0;31mIndexError\u001b[0m                                Traceback (most recent call last)",
      "\u001b[0;32m<ipython-input-14-ac3decb518e2>\u001b[0m in \u001b[0;36m<module>\u001b[0;34m()\u001b[0m\n\u001b[1;32m      1\u001b[0m \u001b[0mlista\u001b[0m \u001b[0;34m=\u001b[0m \u001b[0;34m[\u001b[0m\u001b[0;36m0\u001b[0m\u001b[0;34m,\u001b[0m \u001b[0;36m1\u001b[0m\u001b[0;34m,\u001b[0m \u001b[0;36m2\u001b[0m\u001b[0;34m]\u001b[0m\u001b[0;34m\u001b[0m\u001b[0;34m\u001b[0m\u001b[0m\n\u001b[0;32m----> 2\u001b[0;31m \u001b[0mlista\u001b[0m\u001b[0;34m[\u001b[0m\u001b[0;36m5\u001b[0m\u001b[0;34m]\u001b[0m\u001b[0;34m\u001b[0m\u001b[0;34m\u001b[0m\u001b[0m\n\u001b[0m",
      "\u001b[0;31mIndexError\u001b[0m: list index out of range"
     ]
    }
   ],
   "source": [
    "lista = [0, 1, 2]\n",
    "lista[5]"
   ]
  },
  {
   "cell_type": "code",
   "execution_count": 0,
   "metadata": {
    "colab": {
     "base_uri": "https://localhost:8080/",
     "height": 192
    },
    "colab_type": "code",
    "executionInfo": {
     "elapsed": 902,
     "status": "error",
     "timestamp": 1579682108019,
     "user": {
      "displayName": "Łukasz Chechliński",
      "photoUrl": "",
      "userId": "07837534383626258802"
     },
     "user_tz": -60
    },
    "id": "zqzAvxFzY3PT",
    "outputId": "88ff1ac2-3543-47d7-9193-79729cd77965"
   },
   "outputs": [
    {
     "ename": "KeyError",
     "evalue": "ignored",
     "output_type": "error",
     "traceback": [
      "\u001b[0;31m---------------------------------------------------------------------------\u001b[0m",
      "\u001b[0;31mKeyError\u001b[0m                                  Traceback (most recent call last)",
      "\u001b[0;32m<ipython-input-15-75c70a0b8154>\u001b[0m in \u001b[0;36m<module>\u001b[0;34m()\u001b[0m\n\u001b[1;32m      1\u001b[0m \u001b[0mdictionary\u001b[0m \u001b[0;34m=\u001b[0m \u001b[0;34m{\u001b[0m\u001b[0;34m'a'\u001b[0m\u001b[0;34m:\u001b[0m \u001b[0;36m1\u001b[0m\u001b[0;34m,\u001b[0m \u001b[0;36m1\u001b[0m\u001b[0;34m:\u001b[0m \u001b[0;36m2\u001b[0m\u001b[0;34m}\u001b[0m\u001b[0;34m\u001b[0m\u001b[0;34m\u001b[0m\u001b[0m\n\u001b[0;32m----> 2\u001b[0;31m \u001b[0mdictionary\u001b[0m\u001b[0;34m[\u001b[0m\u001b[0;34m'c'\u001b[0m\u001b[0;34m]\u001b[0m\u001b[0;34m\u001b[0m\u001b[0;34m\u001b[0m\u001b[0m\n\u001b[0m",
      "\u001b[0;31mKeyError\u001b[0m: 'c'"
     ]
    }
   ],
   "source": [
    "dictionary = {'a': 1, 1: 2}\n",
    "dictionary['c']"
   ]
  },
  {
   "cell_type": "code",
   "execution_count": 0,
   "metadata": {
    "colab": {
     "base_uri": "https://localhost:8080/",
     "height": 173
    },
    "colab_type": "code",
    "executionInfo": {
     "elapsed": 893,
     "status": "error",
     "timestamp": 1579682132848,
     "user": {
      "displayName": "Łukasz Chechliński",
      "photoUrl": "",
      "userId": "07837534383626258802"
     },
     "user_tz": -60
    },
    "id": "iJslYD7uZA44",
    "outputId": "e0c4318e-f2bb-4ade-ee0b-7f761839c37c"
   },
   "outputs": [
    {
     "ename": "NameError",
     "evalue": "ignored",
     "output_type": "error",
     "traceback": [
      "\u001b[0;31m---------------------------------------------------------------------------\u001b[0m",
      "\u001b[0;31mNameError\u001b[0m                                 Traceback (most recent call last)",
      "\u001b[0;32m<ipython-input-16-e65ed1d110fb>\u001b[0m in \u001b[0;36m<module>\u001b[0;34m()\u001b[0m\n\u001b[0;32m----> 1\u001b[0;31m \u001b[0mx\u001b[0m \u001b[0;34m=\u001b[0m \u001b[0;36m2\u001b[0m \u001b[0;34m*\u001b[0m \u001b[0mniezdefiniowana\u001b[0m\u001b[0;34m\u001b[0m\u001b[0;34m\u001b[0m\u001b[0m\n\u001b[0m",
      "\u001b[0;31mNameError\u001b[0m: name 'niezdefiniowana' is not defined"
     ]
    }
   ],
   "source": [
    "x = 2 * niezdefiniowana"
   ]
  },
  {
   "cell_type": "code",
   "execution_count": 0,
   "metadata": {
    "colab": {
     "base_uri": "https://localhost:8080/",
     "height": 173
    },
    "colab_type": "code",
    "executionInfo": {
     "elapsed": 841,
     "status": "error",
     "timestamp": 1579682153739,
     "user": {
      "displayName": "Łukasz Chechliński",
      "photoUrl": "",
      "userId": "07837534383626258802"
     },
     "user_tz": -60
    },
    "id": "_GEh0uO3ZG9V",
    "outputId": "836a40b9-ea9f-4385-ccf8-929f87c09a2e"
   },
   "outputs": [
    {
     "ename": "ValueError",
     "evalue": "ignored",
     "output_type": "error",
     "traceback": [
      "\u001b[0;31m---------------------------------------------------------------------------\u001b[0m",
      "\u001b[0;31mValueError\u001b[0m                                Traceback (most recent call last)",
      "\u001b[0;32m<ipython-input-17-9203cb2a43f7>\u001b[0m in \u001b[0;36m<module>\u001b[0;34m()\u001b[0m\n\u001b[0;32m----> 1\u001b[0;31m \u001b[0mx\u001b[0m\u001b[0;34m,\u001b[0m \u001b[0my\u001b[0m \u001b[0;34m=\u001b[0m \u001b[0;36m2\u001b[0m\u001b[0;34m,\u001b[0m \u001b[0;36m3\u001b[0m\u001b[0;34m,\u001b[0m \u001b[0;36m4\u001b[0m\u001b[0;34m\u001b[0m\u001b[0;34m\u001b[0m\u001b[0m\n\u001b[0m",
      "\u001b[0;31mValueError\u001b[0m: too many values to unpack (expected 2)"
     ]
    }
   ],
   "source": [
    "x, y = 2, 3, 4"
   ]
  },
  {
   "cell_type": "code",
   "execution_count": 0,
   "metadata": {
    "colab": {
     "base_uri": "https://localhost:8080/",
     "height": 137
    },
    "colab_type": "code",
    "executionInfo": {
     "elapsed": 900,
     "status": "error",
     "timestamp": 1579682199104,
     "user": {
      "displayName": "Łukasz Chechliński",
      "photoUrl": "",
      "userId": "07837534383626258802"
     },
     "user_tz": -60
    },
    "id": "G9qBoQawZMEb",
    "outputId": "86c03077-d44b-4ca3-c832-04db7431df91"
   },
   "outputs": [
    {
     "ename": "SyntaxError",
     "evalue": "ignored",
     "output_type": "error",
     "traceback": [
      "\u001b[0;36m  File \u001b[0;32m\"<ipython-input-19-4102472964bf>\"\u001b[0;36m, line \u001b[0;32m1\u001b[0m\n\u001b[0;31m    if 2 < 3\u001b[0m\n\u001b[0m            ^\u001b[0m\n\u001b[0;31mSyntaxError\u001b[0m\u001b[0;31m:\u001b[0m invalid syntax\n"
     ]
    }
   ],
   "source": [
    "if 2 < 3\n",
    "  print(2)"
   ]
  },
  {
   "cell_type": "code",
   "execution_count": 0,
   "metadata": {
    "colab": {
     "base_uri": "https://localhost:8080/",
     "height": 35
    },
    "colab_type": "code",
    "executionInfo": {
     "elapsed": 830,
     "status": "ok",
     "timestamp": 1579682357108,
     "user": {
      "displayName": "Łukasz Chechliński",
      "photoUrl": "",
      "userId": "07837534383626258802"
     },
     "user_tz": -60
    },
    "id": "RuVtjcNEZVcX",
    "outputId": "882cb60e-f0ba-4b20-8223-13317ab928b8"
   },
   "outputs": [
    {
     "name": "stdout",
     "output_type": "stream",
     "text": [
      "3\n"
     ]
    }
   ],
   "source": [
    "def get_median(lista):\n",
    "  assert len(lista) > 0, 'Cannot get median from empty list'\n",
    "  return sorted(lista)[int(len(lista)/2)]\n",
    "\n",
    "print(get_median([5, 2, 4, 1, 3]))"
   ]
  },
  {
   "cell_type": "code",
   "execution_count": 0,
   "metadata": {
    "colab": {
     "base_uri": "https://localhost:8080/",
     "height": 301
    },
    "colab_type": "code",
    "executionInfo": {
     "elapsed": 1064,
     "status": "error",
     "timestamp": 1579682359975,
     "user": {
      "displayName": "Łukasz Chechliński",
      "photoUrl": "",
      "userId": "07837534383626258802"
     },
     "user_tz": -60
    },
    "id": "Npixq1glZx8q",
    "outputId": "7a1a6e6c-aef4-4c67-d934-50fac430d648"
   },
   "outputs": [
    {
     "ename": "AssertionError",
     "evalue": "ignored",
     "output_type": "error",
     "traceback": [
      "\u001b[0;31m---------------------------------------------------------------------------\u001b[0m",
      "\u001b[0;31mAssertionError\u001b[0m                            Traceback (most recent call last)",
      "\u001b[0;32m<ipython-input-24-8be39dc6fab8>\u001b[0m in \u001b[0;36m<module>\u001b[0;34m()\u001b[0m\n\u001b[0;32m----> 1\u001b[0;31m \u001b[0mprint\u001b[0m\u001b[0;34m(\u001b[0m\u001b[0mget_median\u001b[0m\u001b[0;34m(\u001b[0m\u001b[0;34m[\u001b[0m\u001b[0;34m]\u001b[0m\u001b[0;34m)\u001b[0m\u001b[0;34m)\u001b[0m\u001b[0;34m\u001b[0m\u001b[0;34m\u001b[0m\u001b[0m\n\u001b[0m",
      "\u001b[0;32m<ipython-input-23-81fd5fbabf7d>\u001b[0m in \u001b[0;36mget_median\u001b[0;34m(lista)\u001b[0m\n\u001b[1;32m      1\u001b[0m \u001b[0;32mdef\u001b[0m \u001b[0mget_median\u001b[0m\u001b[0;34m(\u001b[0m\u001b[0mlista\u001b[0m\u001b[0;34m)\u001b[0m\u001b[0;34m:\u001b[0m\u001b[0;34m\u001b[0m\u001b[0;34m\u001b[0m\u001b[0m\n\u001b[0;32m----> 2\u001b[0;31m   \u001b[0;32massert\u001b[0m \u001b[0mlen\u001b[0m\u001b[0;34m(\u001b[0m\u001b[0mlista\u001b[0m\u001b[0;34m)\u001b[0m \u001b[0;34m>\u001b[0m \u001b[0;36m0\u001b[0m\u001b[0;34m,\u001b[0m \u001b[0;34m'Cannot get median from empty list'\u001b[0m\u001b[0;34m\u001b[0m\u001b[0;34m\u001b[0m\u001b[0m\n\u001b[0m\u001b[1;32m      3\u001b[0m   \u001b[0;32mreturn\u001b[0m \u001b[0msorted\u001b[0m\u001b[0;34m(\u001b[0m\u001b[0mlista\u001b[0m\u001b[0;34m)\u001b[0m\u001b[0;34m[\u001b[0m\u001b[0mint\u001b[0m\u001b[0;34m(\u001b[0m\u001b[0mlen\u001b[0m\u001b[0;34m(\u001b[0m\u001b[0mlista\u001b[0m\u001b[0;34m)\u001b[0m\u001b[0;34m/\u001b[0m\u001b[0;36m2\u001b[0m\u001b[0;34m)\u001b[0m\u001b[0;34m]\u001b[0m\u001b[0;34m\u001b[0m\u001b[0;34m\u001b[0m\u001b[0m\n\u001b[1;32m      4\u001b[0m \u001b[0;34m\u001b[0m\u001b[0m\n\u001b[1;32m      5\u001b[0m \u001b[0mprint\u001b[0m\u001b[0;34m(\u001b[0m\u001b[0mget_median\u001b[0m\u001b[0;34m(\u001b[0m\u001b[0;34m[\u001b[0m\u001b[0;36m5\u001b[0m\u001b[0;34m,\u001b[0m \u001b[0;36m2\u001b[0m\u001b[0;34m,\u001b[0m \u001b[0;36m4\u001b[0m\u001b[0;34m,\u001b[0m \u001b[0;36m1\u001b[0m\u001b[0;34m,\u001b[0m \u001b[0;36m3\u001b[0m\u001b[0;34m]\u001b[0m\u001b[0;34m)\u001b[0m\u001b[0;34m)\u001b[0m\u001b[0;34m\u001b[0m\u001b[0;34m\u001b[0m\u001b[0m\n",
      "\u001b[0;31mAssertionError\u001b[0m: Cannot get median from empty list"
     ]
    }
   ],
   "source": [
    "print(get_median([]))"
   ]
  },
  {
   "cell_type": "markdown",
   "metadata": {
    "colab_type": "text",
    "id": "sUf6GMz9bB-G"
   },
   "source": [
    "## Obsługa wyjątków\n",
    "\n",
    "Do obsługi wyjatkóœ służy instrukcja try-except. Jej podstawowe uzycie przedstawiono poniżej."
   ]
  },
  {
   "cell_type": "code",
   "execution_count": 0,
   "metadata": {
    "colab": {
     "base_uri": "https://localhost:8080/",
     "height": 54
    },
    "colab_type": "code",
    "executionInfo": {
     "elapsed": 1022,
     "status": "ok",
     "timestamp": 1579683119066,
     "user": {
      "displayName": "Łukasz Chechliński",
      "photoUrl": "",
      "userId": "07837534383626258802"
     },
     "user_tz": -60
    },
    "id": "jIMv2DPBZ4Mb",
    "outputId": "963aa66a-6a33-4f29-d5ff-f4721671db2c"
   },
   "outputs": [
    {
     "name": "stdout",
     "output_type": "stream",
     "text": [
      "Warning, an error arithmetic error occured\n",
      "It is printed out of the try-except block\n"
     ]
    }
   ],
   "source": [
    "x = 10.0\n",
    "y = 0.0\n",
    "try:\n",
    "  w = x/y\n",
    "except ArithmeticError:\n",
    "  print('Warning, an error arithmetic error occured')\n",
    "print('It is printed out of the try-except block')"
   ]
  },
  {
   "cell_type": "markdown",
   "metadata": {
    "colab_type": "text",
    "id": "lM663YhbdHWn"
   },
   "source": [
    "Nie zaleca się obsłgui klasy bazowej wyjątków, ponieważ jej stosowanie prowadzi w praktyce do pomijania błędów i tworzenia ciężkich do wykrycia bugów"
   ]
  },
  {
   "cell_type": "code",
   "execution_count": 0,
   "metadata": {
    "colab": {
     "base_uri": "https://localhost:8080/",
     "height": 35
    },
    "colab_type": "code",
    "executionInfo": {
     "elapsed": 1050,
     "status": "ok",
     "timestamp": 1579683504504,
     "user": {
      "displayName": "Łukasz Chechliński",
      "photoUrl": "",
      "userId": "07837534383626258802"
     },
     "user_tz": -60
    },
    "id": "z_IP3-gXcKtr",
    "outputId": "edbe5400-0d9b-42ec-d4cb-5a9f0c979fd1"
   },
   "outputs": [
    {
     "name": "stdout",
     "output_type": "stream",
     "text": [
      "Warning, but I don't know why\n"
     ]
    }
   ],
   "source": [
    "try:\n",
    "  xs = [1, 2, 3, 4]\n",
    "  ys = [2, 4, 0]\n",
    "  ws = [x/ys[idx] for idx, x in enumerate(xs)]\n",
    "except Exception:\n",
    "  print(\"Warning, but I don't know why\")"
   ]
  },
  {
   "cell_type": "markdown",
   "metadata": {
    "colab_type": "text",
    "id": "KvZ6FYHPeYRq"
   },
   "source": [
    "Zamiast tego należy stosowac kilka bloków except:"
   ]
  },
  {
   "cell_type": "code",
   "execution_count": 0,
   "metadata": {
    "colab": {},
    "colab_type": "code",
    "id": "KvOnVxqhd2YB"
   },
   "outputs": [],
   "source": [
    "def some_operations(xs, ys):\n",
    "  try:\n",
    "    ws = [x/ys[idx] for idx, x in enumerate(xs)]\n",
    "  except ArithmeticError:\n",
    "    print('Arithmetic error! Check values in your lists')\n",
    "  except IndexError:\n",
    "    print('Index error, note len(xs) is {} and len(ys) is {}'.format(len(xs), \n",
    "                                                                   len(ys)))"
   ]
  },
  {
   "cell_type": "code",
   "execution_count": 0,
   "metadata": {
    "colab": {
     "base_uri": "https://localhost:8080/",
     "height": 35
    },
    "colab_type": "code",
    "executionInfo": {
     "elapsed": 846,
     "status": "ok",
     "timestamp": 1579683770570,
     "user": {
      "displayName": "Łukasz Chechliński",
      "photoUrl": "",
      "userId": "07837534383626258802"
     },
     "user_tz": -60
    },
    "id": "YsljdrrSfFj5",
    "outputId": "7584c301-eff5-42a6-e9c1-e80c0cef27f8"
   },
   "outputs": [
    {
     "name": "stdout",
     "output_type": "stream",
     "text": [
      "Arithmetic error!\n"
     ]
    }
   ],
   "source": [
    "some_operations([1, 2, 3, 4], [2, 4, 0])"
   ]
  },
  {
   "cell_type": "markdown",
   "metadata": {
    "colab_type": "text",
    "id": "_n7Y1T8kgt4Q"
   },
   "source": []
  },
  {
   "cell_type": "code",
   "execution_count": 0,
   "metadata": {
    "colab": {
     "base_uri": "https://localhost:8080/",
     "height": 35
    },
    "colab_type": "code",
    "executionInfo": {
     "elapsed": 784,
     "status": "ok",
     "timestamp": 1579683816311,
     "user": {
      "displayName": "Łukasz Chechliński",
      "photoUrl": "",
      "userId": "07837534383626258802"
     },
     "user_tz": -60
    },
    "id": "ApdD5vnpfVF6",
    "outputId": "60b5375f-91d1-4838-f314-2a9891e872c8"
   },
   "outputs": [
    {
     "name": "stdout",
     "output_type": "stream",
     "text": [
      "Index error, note len(xs) is 4 and len(ys) is 3\n"
     ]
    }
   ],
   "source": [
    "some_operations([1, 2, 3, 4], [2, 4, 6])"
   ]
  },
  {
   "cell_type": "markdown",
   "metadata": {
    "colab_type": "text",
    "id": "9FAxtAO1fmUX"
   },
   "source": [
    "O nieobsługiwanych rodzjach wyjątków również zostaniemy powiadomieni, jednak spowodują one przerwanie działania programu (jak wszystkie nieobsługiwane wyjątki)"
   ]
  },
  {
   "cell_type": "code",
   "execution_count": 0,
   "metadata": {
    "colab": {
     "base_uri": "https://localhost:8080/",
     "height": 325
    },
    "colab_type": "code",
    "executionInfo": {
     "elapsed": 771,
     "status": "error",
     "timestamp": 1579683908068,
     "user": {
      "displayName": "Łukasz Chechliński",
      "photoUrl": "",
      "userId": "07837534383626258802"
     },
     "user_tz": -60
    },
    "id": "eSGOB7EEfh_C",
    "outputId": "88c0c4df-4488-4cf7-fd8a-e693d9971420"
   },
   "outputs": [
    {
     "ename": "TypeError",
     "evalue": "ignored",
     "output_type": "error",
     "traceback": [
      "\u001b[0;31m---------------------------------------------------------------------------\u001b[0m",
      "\u001b[0;31mTypeError\u001b[0m                                 Traceback (most recent call last)",
      "\u001b[0;32m<ipython-input-39-c025819f629e>\u001b[0m in \u001b[0;36m<module>\u001b[0;34m()\u001b[0m\n\u001b[0;32m----> 1\u001b[0;31m \u001b[0msome_operations\u001b[0m\u001b[0;34m(\u001b[0m\u001b[0;34m[\u001b[0m\u001b[0;36m1\u001b[0m\u001b[0;34m,\u001b[0m \u001b[0;36m2\u001b[0m\u001b[0;34m,\u001b[0m \u001b[0;36m3\u001b[0m\u001b[0;34m,\u001b[0m \u001b[0;36m4\u001b[0m\u001b[0;34m]\u001b[0m\u001b[0;34m,\u001b[0m \u001b[0;34m'abcd'\u001b[0m\u001b[0;34m)\u001b[0m\u001b[0;34m\u001b[0m\u001b[0;34m\u001b[0m\u001b[0m\n\u001b[0m",
      "\u001b[0;32m<ipython-input-37-b66c7648a467>\u001b[0m in \u001b[0;36msome_operations\u001b[0;34m(xs, ys)\u001b[0m\n\u001b[1;32m      1\u001b[0m \u001b[0;32mdef\u001b[0m \u001b[0msome_operations\u001b[0m\u001b[0;34m(\u001b[0m\u001b[0mxs\u001b[0m\u001b[0;34m,\u001b[0m \u001b[0mys\u001b[0m\u001b[0;34m)\u001b[0m\u001b[0;34m:\u001b[0m\u001b[0;34m\u001b[0m\u001b[0;34m\u001b[0m\u001b[0m\n\u001b[1;32m      2\u001b[0m   \u001b[0;32mtry\u001b[0m\u001b[0;34m:\u001b[0m\u001b[0;34m\u001b[0m\u001b[0;34m\u001b[0m\u001b[0m\n\u001b[0;32m----> 3\u001b[0;31m     \u001b[0mws\u001b[0m \u001b[0;34m=\u001b[0m \u001b[0;34m[\u001b[0m\u001b[0mx\u001b[0m\u001b[0;34m/\u001b[0m\u001b[0mys\u001b[0m\u001b[0;34m[\u001b[0m\u001b[0midx\u001b[0m\u001b[0;34m]\u001b[0m \u001b[0;32mfor\u001b[0m \u001b[0midx\u001b[0m\u001b[0;34m,\u001b[0m \u001b[0mx\u001b[0m \u001b[0;32min\u001b[0m \u001b[0menumerate\u001b[0m\u001b[0;34m(\u001b[0m\u001b[0mxs\u001b[0m\u001b[0;34m)\u001b[0m\u001b[0;34m]\u001b[0m\u001b[0;34m\u001b[0m\u001b[0;34m\u001b[0m\u001b[0m\n\u001b[0m\u001b[1;32m      4\u001b[0m   \u001b[0;32mexcept\u001b[0m \u001b[0mArithmeticError\u001b[0m\u001b[0;34m:\u001b[0m\u001b[0;34m\u001b[0m\u001b[0;34m\u001b[0m\u001b[0m\n\u001b[1;32m      5\u001b[0m     \u001b[0mprint\u001b[0m\u001b[0;34m(\u001b[0m\u001b[0;34m'Arithmetic error! Check values in your lists'\u001b[0m\u001b[0;34m)\u001b[0m\u001b[0;34m\u001b[0m\u001b[0;34m\u001b[0m\u001b[0m\n",
      "\u001b[0;32m<ipython-input-37-b66c7648a467>\u001b[0m in \u001b[0;36m<listcomp>\u001b[0;34m(.0)\u001b[0m\n\u001b[1;32m      1\u001b[0m \u001b[0;32mdef\u001b[0m \u001b[0msome_operations\u001b[0m\u001b[0;34m(\u001b[0m\u001b[0mxs\u001b[0m\u001b[0;34m,\u001b[0m \u001b[0mys\u001b[0m\u001b[0;34m)\u001b[0m\u001b[0;34m:\u001b[0m\u001b[0;34m\u001b[0m\u001b[0;34m\u001b[0m\u001b[0m\n\u001b[1;32m      2\u001b[0m   \u001b[0;32mtry\u001b[0m\u001b[0;34m:\u001b[0m\u001b[0;34m\u001b[0m\u001b[0;34m\u001b[0m\u001b[0m\n\u001b[0;32m----> 3\u001b[0;31m     \u001b[0mws\u001b[0m \u001b[0;34m=\u001b[0m \u001b[0;34m[\u001b[0m\u001b[0mx\u001b[0m\u001b[0;34m/\u001b[0m\u001b[0mys\u001b[0m\u001b[0;34m[\u001b[0m\u001b[0midx\u001b[0m\u001b[0;34m]\u001b[0m \u001b[0;32mfor\u001b[0m \u001b[0midx\u001b[0m\u001b[0;34m,\u001b[0m \u001b[0mx\u001b[0m \u001b[0;32min\u001b[0m \u001b[0menumerate\u001b[0m\u001b[0;34m(\u001b[0m\u001b[0mxs\u001b[0m\u001b[0;34m)\u001b[0m\u001b[0;34m]\u001b[0m\u001b[0;34m\u001b[0m\u001b[0;34m\u001b[0m\u001b[0m\n\u001b[0m\u001b[1;32m      4\u001b[0m   \u001b[0;32mexcept\u001b[0m \u001b[0mArithmeticError\u001b[0m\u001b[0;34m:\u001b[0m\u001b[0;34m\u001b[0m\u001b[0;34m\u001b[0m\u001b[0m\n\u001b[1;32m      5\u001b[0m     \u001b[0mprint\u001b[0m\u001b[0;34m(\u001b[0m\u001b[0;34m'Arithmetic error! Check values in your lists'\u001b[0m\u001b[0;34m)\u001b[0m\u001b[0;34m\u001b[0m\u001b[0;34m\u001b[0m\u001b[0m\n",
      "\u001b[0;31mTypeError\u001b[0m: unsupported operand type(s) for /: 'int' and 'str'"
     ]
    }
   ],
   "source": [
    "some_operations([1, 2, 3, 4], 'abcd')"
   ]
  },
  {
   "cell_type": "markdown",
   "metadata": {
    "colab_type": "text",
    "id": "KlG_F0YWgG2N"
   },
   "source": [
    "Wyjątki są instancjami klas dziedziczących po **Exception**, obiekty te mogą mieć przydatne atrybuty, takie jak opis tekstowy. Możliwe jest również taka sama obsługa kilku wyjątków."
   ]
  },
  {
   "cell_type": "code",
   "execution_count": 0,
   "metadata": {
    "colab": {
     "base_uri": "https://localhost:8080/",
     "height": 35
    },
    "colab_type": "code",
    "executionInfo": {
     "elapsed": 1058,
     "status": "ok",
     "timestamp": 1579684545320,
     "user": {
      "displayName": "Łukasz Chechliński",
      "photoUrl": "",
      "userId": "07837534383626258802"
     },
     "user_tz": -60
    },
    "id": "bwKEG1UHf4ZY",
    "outputId": "48381bc2-b66f-4254-d6e4-6db6a935772a"
   },
   "outputs": [
    {
     "name": "stdout",
     "output_type": "stream",
     "text": [
      "Arithmetic error! division by zero\n"
     ]
    }
   ],
   "source": [
    "def some_operations_2(xs, ys):\n",
    "  try:\n",
    "    ws = [x/ys[idx] for idx, x in enumerate(xs)]\n",
    "  except ArithmeticError as e:\n",
    "    print('Arithmetic error!', e)\n",
    "  except IndexError as e:\n",
    "    print('Index error, note len(xs) is {} and len(ys) is {}'.format(len(xs), \n",
    "                                                                   len(ys)))\n",
    "    print('Details:', e)\n",
    "  except (ValueError, TypeError) as e:\n",
    "    print(\"I don't know what to say, look at details:\", e)\n",
    "    \n",
    "some_operations_2([1, 2, 3, 4], [2, 4, 0])"
   ]
  },
  {
   "cell_type": "code",
   "execution_count": 0,
   "metadata": {
    "colab": {
     "base_uri": "https://localhost:8080/",
     "height": 54
    },
    "colab_type": "code",
    "executionInfo": {
     "elapsed": 956,
     "status": "ok",
     "timestamp": 1579684547134,
     "user": {
      "displayName": "Łukasz Chechliński",
      "photoUrl": "",
      "userId": "07837534383626258802"
     },
     "user_tz": -60
    },
    "id": "3__E8KRdgwxX",
    "outputId": "1a0b4ed1-73b1-4c0c-b4d7-eba7fbc1fe56"
   },
   "outputs": [
    {
     "name": "stdout",
     "output_type": "stream",
     "text": [
      "Index error, note len(xs) is 3 and len(ys) is 1\n",
      "Details: list index out of range\n"
     ]
    }
   ],
   "source": [
    "some_operations_2([1, 2, 3], [4])"
   ]
  },
  {
   "cell_type": "code",
   "execution_count": 0,
   "metadata": {
    "colab": {
     "base_uri": "https://localhost:8080/",
     "height": 55
    },
    "colab_type": "code",
    "executionInfo": {
     "elapsed": 880,
     "status": "ok",
     "timestamp": 1579684569813,
     "user": {
      "displayName": "Łukasz Chechliński",
      "photoUrl": "",
      "userId": "07837534383626258802"
     },
     "user_tz": -60
    },
    "id": "WlTZPrU2iYSX",
    "outputId": "395b27e3-4ae0-4f8a-f690-06b711ac298c"
   },
   "outputs": [
    {
     "name": "stdout",
     "output_type": "stream",
     "text": [
      "I don't know what to say, look at details: unsupported operand type(s) for /: 'int' and 'str'\n"
     ]
    }
   ],
   "source": [
    "some_operations_2([1, 2, 3, 4], 'abcd')"
   ]
  },
  {
   "cell_type": "markdown",
   "metadata": {
    "colab_type": "text",
    "id": "MDCKempPhzIA"
   },
   "source": [
    "Oprócz try i except występowac mogą instrukcje else (pozwalajaca na wykonanie pewnych fragmentów kodu tylko w wypadku braku błędów) oraz finally (pozwalajaca na wykonanie kodu nawet jeśli w trakcie obsługi wyjątku zostanie zwrócony kolejny, nieobsługiwany wyjątek). Stosowanie tych instrukcji jest jednak konieczne w bardziej złożonych programach."
   ]
  },
  {
   "cell_type": "markdown",
   "metadata": {
    "colab_type": "text",
    "id": "CQftm8aOkLCl"
   },
   "source": [
    "## Zwracanie wyjątków\n",
    "\n",
    "Do zwracania wyjątków służy słowo kluczowe raise"
   ]
  },
  {
   "cell_type": "code",
   "execution_count": 0,
   "metadata": {
    "colab": {},
    "colab_type": "code",
    "id": "z5jNmu9jhfNp"
   },
   "outputs": [],
   "source": [
    "def kelvin2celsius(temp_kel):\n",
    "  if temp_kel < 0:\n",
    "    raise ValueError('Kelvin temperature cannot equal {}, \\\n",
    "which is below absolute zero'.format(temp_kel))\n",
    "  return temp_kel - 273.15"
   ]
  },
  {
   "cell_type": "code",
   "execution_count": 0,
   "metadata": {
    "colab": {
     "base_uri": "https://localhost:8080/",
     "height": 35
    },
    "colab_type": "code",
    "executionInfo": {
     "elapsed": 727,
     "status": "ok",
     "timestamp": 1579685554131,
     "user": {
      "displayName": "Łukasz Chechliński",
      "photoUrl": "",
      "userId": "07837534383626258802"
     },
     "user_tz": -60
    },
    "id": "WKzOCdVZlvmD",
    "outputId": "a0c9e508-d403-4798-8ecd-4f5fbba30570"
   },
   "outputs": [
    {
     "name": "stdout",
     "output_type": "stream",
     "text": [
      "-173.14999999999998\n"
     ]
    }
   ],
   "source": [
    "print(kelvin2celsius(100.))"
   ]
  },
  {
   "cell_type": "code",
   "execution_count": 0,
   "metadata": {
    "colab": {
     "base_uri": "https://localhost:8080/",
     "height": 303
    },
    "colab_type": "code",
    "executionInfo": {
     "elapsed": 1214,
     "status": "error",
     "timestamp": 1579685559169,
     "user": {
      "displayName": "Łukasz Chechliński",
      "photoUrl": "",
      "userId": "07837534383626258802"
     },
     "user_tz": -60
    },
    "id": "-iyKjK8Cl2IX",
    "outputId": "2dd46ae4-7cac-411e-db69-58c4de8ee90b"
   },
   "outputs": [
    {
     "ename": "ValueError",
     "evalue": "ignored",
     "output_type": "error",
     "traceback": [
      "\u001b[0;31m---------------------------------------------------------------------------\u001b[0m",
      "\u001b[0;31mValueError\u001b[0m                                Traceback (most recent call last)",
      "\u001b[0;32m<ipython-input-60-7dd6bc9cdbd4>\u001b[0m in \u001b[0;36m<module>\u001b[0;34m()\u001b[0m\n\u001b[0;32m----> 1\u001b[0;31m \u001b[0mprint\u001b[0m\u001b[0;34m(\u001b[0m\u001b[0mkelvin2celsius\u001b[0m\u001b[0;34m(\u001b[0m\u001b[0;34m-\u001b[0m\u001b[0;36m10\u001b[0m\u001b[0;34m)\u001b[0m\u001b[0;34m)\u001b[0m\u001b[0;34m\u001b[0m\u001b[0;34m\u001b[0m\u001b[0m\n\u001b[0m",
      "\u001b[0;32m<ipython-input-58-c44c744ed097>\u001b[0m in \u001b[0;36mkelvin2celsius\u001b[0;34m(temp_kel)\u001b[0m\n\u001b[1;32m      1\u001b[0m \u001b[0;32mdef\u001b[0m \u001b[0mkelvin2celsius\u001b[0m\u001b[0;34m(\u001b[0m\u001b[0mtemp_kel\u001b[0m\u001b[0;34m)\u001b[0m\u001b[0;34m:\u001b[0m\u001b[0;34m\u001b[0m\u001b[0;34m\u001b[0m\u001b[0m\n\u001b[1;32m      2\u001b[0m   \u001b[0;32mif\u001b[0m \u001b[0mtemp_kel\u001b[0m \u001b[0;34m<\u001b[0m \u001b[0;36m0\u001b[0m\u001b[0;34m:\u001b[0m\u001b[0;34m\u001b[0m\u001b[0;34m\u001b[0m\u001b[0m\n\u001b[0;32m----> 3\u001b[0;31m     \u001b[0;32mraise\u001b[0m \u001b[0mValueError\u001b[0m\u001b[0;34m(\u001b[0m\u001b[0;34m'Kelvin temperature cannot equal {}, which is below absolute zero'\u001b[0m\u001b[0;34m.\u001b[0m\u001b[0mformat\u001b[0m\u001b[0;34m(\u001b[0m\u001b[0mtemp_kel\u001b[0m\u001b[0;34m)\u001b[0m\u001b[0;34m)\u001b[0m\u001b[0;34m\u001b[0m\u001b[0;34m\u001b[0m\u001b[0m\n\u001b[0m\u001b[1;32m      4\u001b[0m   \u001b[0;32mreturn\u001b[0m \u001b[0mtemp_kel\u001b[0m \u001b[0;34m-\u001b[0m \u001b[0;36m273.15\u001b[0m\u001b[0;34m\u001b[0m\u001b[0;34m\u001b[0m\u001b[0m\n",
      "\u001b[0;31mValueError\u001b[0m: Kelvin temperature cannot equal -10, which is below absolute zero"
     ]
    }
   ],
   "source": [
    "print(kelvin2celsius(-10))"
   ]
  },
  {
   "cell_type": "code",
   "execution_count": 0,
   "metadata": {
    "colab": {},
    "colab_type": "code",
    "id": "jCGWmdG0l5lT"
   },
   "outputs": [],
   "source": [
    "Praca domowa: termin do 27.03\n",
    "\n",
    "Proszę zbudować klasę pojazd (nazwy pól do wyboru), wczytać dane o kilku pojazdach. Przy wczytywaniu zrobić kontrolę danych, np.\n",
    "jesli w roku produkcji lub pojemności silnika pojawi się litera to wystąpi wyjątek.\n",
    "Wydrukować listę pojazdów posortowaną według wybranego kryterium. \n",
    "\n",
    "Następny (4) wykład udostępniony zostanie w piatek, ale skrócony będzie czas \n",
    "oddania prac domowych do jednego tygodnia.\n",
    "\n"
   ]
  }
 ],
 "metadata": {
  "colab": {
   "collapsed_sections": [],
   "name": "Python_W3.ipynb",
   "provenance": [
    {
     "file_id": "1mRJmtyrytu6Evw60g5dcuGEVdk-4VVTY",
     "timestamp": 1584365063410
    }
   ]
  },
  "kernelspec": {
   "display_name": "Python 3",
   "language": "python",
   "name": "python3"
  },
  "language_info": {
   "codemirror_mode": {
    "name": "ipython",
    "version": 3
   },
   "file_extension": ".py",
   "mimetype": "text/x-python",
   "name": "python",
   "nbconvert_exporter": "python",
   "pygments_lexer": "ipython3",
   "version": "3.6.9"
  }
 },
 "nbformat": 4,
 "nbformat_minor": 1
}
