{
 "cells": [
  {
   "cell_type": "code",
   "execution_count": 21,
   "metadata": {},
   "outputs": [
    {
     "name": "stdout",
     "output_type": "stream",
     "text": [
      "[True, False, True, False, True]\n"
     ]
    }
   ],
   "source": [
    "#Maksym Zawrotny. St II. stopnia, III sem.\n",
    "import math\n",
    "def get_divisors(number):\n",
    "    divisors = []\n",
    "    for i in range(1, number):\n",
    "        if number%i == 0:\n",
    "            divisors.append(i)        \n",
    "    return divisors\n",
    "\n",
    "def is_excellent(number):\n",
    "    divisors = get_divisors(number)\n",
    "    divis_sum = 0\n",
    "    \n",
    "    for divisor in divisors:\n",
    "        divis_sum = divis_sum + divisor\n",
    "        \n",
    "    return divis_sum==number\n",
    "\n",
    "results_list = []\n",
    "inp = [6, 12, 28, 72, 496]\n",
    "\n",
    "for num in inp:\n",
    "    results_list.append(is_excellent(num))\n",
    "\n",
    "print(results_list)"
   ]
  }
 ],
 "metadata": {
  "kernelspec": {
   "display_name": "Python 3",
   "language": "python",
   "name": "python3"
  },
  "language_info": {
   "codemirror_mode": {
    "name": "ipython",
    "version": 3
   },
   "file_extension": ".py",
   "mimetype": "text/x-python",
   "name": "python",
   "nbconvert_exporter": "python",
   "pygments_lexer": "ipython3",
   "version": "3.6.9"
  }
 },
 "nbformat": 4,
 "nbformat_minor": 2
}
