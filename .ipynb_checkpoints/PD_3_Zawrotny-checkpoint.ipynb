{
 "cells": [
  {
   "cell_type": "code",
   "execution_count": 67,
   "metadata": {},
   "outputs": [
    {
     "name": "stdout",
     "output_type": "stream",
     "text": [
      "Dane odnośnie pojazdu:\n",
      "Przyspieszenie od 0 do 100 km/h: 5.5\n",
      "Prędkość maksymalna: 320\n",
      "Pojemność silnika: 2.6\n",
      "\n",
      "Dane odnośnie pojazdu:\n",
      "Przyspieszenie od 0 do 100 km/h: 8\n",
      "Prędkość maksymalna: 210\n",
      "Pojemność silnika: 2.0\n",
      "\n",
      "Dane odnośnie pojazdu:\n",
      "Przyspieszenie od 0 do 100 km/h: 15\n",
      "Prędkość maksymalna: 110\n",
      "Pojemność silnika: 1.0\n",
      "\n"
     ]
    },
    {
     "ename": "ValueError",
     "evalue": "Prędkości maksymalnych nie podajemy dla biegu wstecznego",
     "output_type": "error",
     "traceback": [
      "\u001b[1;31m---------------------------------------------------------------------------\u001b[0m",
      "\u001b[1;31mValueError\u001b[0m                                Traceback (most recent call last)",
      "\u001b[1;32m<ipython-input-67-38977a6b9044>\u001b[0m in \u001b[0;36m<module>\u001b[1;34m\u001b[0m\n\u001b[0;32m     57\u001b[0m     \u001b[0mprint\u001b[0m\u001b[1;33m(\u001b[0m\u001b[1;33m)\u001b[0m\u001b[1;33m\u001b[0m\u001b[1;33m\u001b[0m\u001b[0m\n\u001b[0;32m     58\u001b[0m \u001b[1;33m\u001b[0m\u001b[0m\n\u001b[1;32m---> 59\u001b[1;33m \u001b[0mbledny\u001b[0m \u001b[1;33m=\u001b[0m \u001b[0mPojazd\u001b[0m\u001b[1;33m(\u001b[0m\u001b[1;36m1\u001b[0m\u001b[1;33m,\u001b[0m \u001b[1;36m10\u001b[0m\u001b[1;33m,\u001b[0m \u001b[1;33m-\u001b[0m\u001b[1;36m80\u001b[0m\u001b[1;33m)\u001b[0m\u001b[1;33m\u001b[0m\u001b[1;33m\u001b[0m\u001b[0m\n\u001b[0m",
      "\u001b[1;32m<ipython-input-67-38977a6b9044>\u001b[0m in \u001b[0;36m__init__\u001b[1;34m(self, przysp_0_100, poj_silnika, max_v, marka, model)\u001b[0m\n\u001b[0;32m     35\u001b[0m         \u001b[0mself\u001b[0m\u001b[1;33m.\u001b[0m\u001b[0mset_przysp\u001b[0m\u001b[1;33m(\u001b[0m\u001b[0mprzysp_0_100\u001b[0m\u001b[1;33m)\u001b[0m\u001b[1;33m\u001b[0m\u001b[1;33m\u001b[0m\u001b[0m\n\u001b[0;32m     36\u001b[0m         \u001b[0mself\u001b[0m\u001b[1;33m.\u001b[0m\u001b[0mset_poj\u001b[0m\u001b[1;33m(\u001b[0m\u001b[0mpoj_silnika\u001b[0m\u001b[1;33m)\u001b[0m\u001b[1;33m\u001b[0m\u001b[1;33m\u001b[0m\u001b[0m\n\u001b[1;32m---> 37\u001b[1;33m         \u001b[0mself\u001b[0m\u001b[1;33m.\u001b[0m\u001b[0mset_max_v\u001b[0m\u001b[1;33m(\u001b[0m\u001b[0mmax_v\u001b[0m\u001b[1;33m)\u001b[0m\u001b[1;33m\u001b[0m\u001b[1;33m\u001b[0m\u001b[0m\n\u001b[0m\u001b[0;32m     38\u001b[0m \u001b[1;33m\u001b[0m\u001b[0m\n\u001b[0;32m     39\u001b[0m     \u001b[1;32mdef\u001b[0m \u001b[0m__gt__\u001b[0m\u001b[1;33m(\u001b[0m\u001b[0mself\u001b[0m\u001b[1;33m,\u001b[0m \u001b[0mother\u001b[0m\u001b[1;33m)\u001b[0m\u001b[1;33m:\u001b[0m\u001b[1;33m\u001b[0m\u001b[1;33m\u001b[0m\u001b[0m\n",
      "\u001b[1;32m<ipython-input-67-38977a6b9044>\u001b[0m in \u001b[0;36mset_max_v\u001b[1;34m(self, max_v)\u001b[0m\n\u001b[0;32m     28\u001b[0m             \u001b[1;32mraise\u001b[0m \u001b[0mTypeError\u001b[0m\u001b[1;33m(\u001b[0m\u001b[1;34m\"Prędkość musi być podana jako liczba wymierna\"\u001b[0m\u001b[1;33m)\u001b[0m\u001b[1;33m\u001b[0m\u001b[1;33m\u001b[0m\u001b[0m\n\u001b[0;32m     29\u001b[0m         \u001b[1;32mif\u001b[0m \u001b[0mmax_v\u001b[0m \u001b[1;33m<\u001b[0m \u001b[1;36m0\u001b[0m\u001b[1;33m:\u001b[0m\u001b[1;33m\u001b[0m\u001b[1;33m\u001b[0m\u001b[0m\n\u001b[1;32m---> 30\u001b[1;33m             \u001b[1;32mraise\u001b[0m \u001b[0mValueError\u001b[0m\u001b[1;33m(\u001b[0m\u001b[1;34m\"Prędkości maksymalnych nie podajemy dla biegu wstecznego\"\u001b[0m\u001b[1;33m)\u001b[0m\u001b[1;33m\u001b[0m\u001b[1;33m\u001b[0m\u001b[0m\n\u001b[0m\u001b[0;32m     31\u001b[0m         \u001b[0mself\u001b[0m\u001b[1;33m.\u001b[0m\u001b[0mmax_v\u001b[0m \u001b[1;33m=\u001b[0m \u001b[0mmax_v\u001b[0m\u001b[1;33m\u001b[0m\u001b[1;33m\u001b[0m\u001b[0m\n\u001b[0;32m     32\u001b[0m \u001b[1;33m\u001b[0m\u001b[0m\n",
      "\u001b[1;31mValueError\u001b[0m: Prędkości maksymalnych nie podajemy dla biegu wstecznego"
     ]
    }
   ],
   "source": [
    "#Maksym Zawrotny st. II stopnia, III sem.\n",
    "\n",
    "#Proszę zbudować klasę pojazd (nazwy pól do wyboru), wczytać dane o kilku pojazdach. \n",
    "#Przy wczytywaniu zrobić kontrolę danych, np.\n",
    "#jesli w roku produkcji lub pojemności silnika pojawi się litera to wystąpi wyjątek.\n",
    "#Wydrukować listę pojazdów posortowaną według wybranego kryterium. \n",
    "\n",
    "class Pojazd:\n",
    "    def _float_or_int(self, inp_data):\n",
    "        return isinstance(inp_data, float) or isinstance(inp_data, int)\n",
    "    \n",
    "    def set_przysp(self, przysp_0_100):\n",
    "        if not self._float_or_int(przysp_0_100):\n",
    "            raise TypeError(\"Przyspieszenie musi być podane jako liczba wymierna\")\n",
    "        if przysp_0_100 < 0:\n",
    "            raise ValueError(\"Raczej się nie rozpędza na wstecznym - musi być dodatnie\")\n",
    "        self.przysp_0_100 = przysp_0_100\n",
    "        \n",
    "    def set_poj(self, poj_silnika):\n",
    "        if not self._float_or_int(poj_silnika):\n",
    "            raise TypeError(\"Pojemnośc musi być podana jako liczba wymierna\")\n",
    "        if poj_silnika < 0:\n",
    "            raise TypeError(\"Ujemnych pojemności to nikt jeszcze nie widział\")\n",
    "        self.poj_silnika = poj_silnika\n",
    "        \n",
    "    def set_max_v(self, max_v):\n",
    "        if not self._float_or_int(max_v):\n",
    "            raise TypeError(\"Prędkość musi być podana jako liczba wymierna\")\n",
    "        if max_v < 0:\n",
    "            raise ValueError(\"Prędkości maksymalnych nie podajemy dla biegu wstecznego\")\n",
    "        self.max_v = max_v\n",
    "        \n",
    "    def __init__(self, przysp_0_100 = 8, poj_silnika=2.0, max_v=210\n",
    "                ,marka='Opel', model='Astra'):\n",
    "        self.set_przysp(przysp_0_100)\n",
    "        self.set_poj(poj_silnika)\n",
    "        self.set_max_v(max_v)\n",
    "    \n",
    "    def __gt__(self, other):\n",
    "        return self.przysp_0_100 > other.przysp_0_100\n",
    "    \n",
    "    def __str__(self):\n",
    "        return f\"\"\"Dane odnośnie pojazdu:\n",
    "Przyspieszenie od 0 do 100 km/h: {self.przysp_0_100}\n",
    "Prędkość maksymalna: {self.max_v}\n",
    "Pojemność silnika: {self.poj_silnika}\"\"\"\n",
    "        \n",
    "opel = Pojazd()\n",
    "jakis_zlom = Pojazd(15, 1.0, 110,'Fiat', '126p')\n",
    "sportowy = Pojazd(5.5, 2.6, 320, 'Bugatti', 'Veyron')\n",
    "\n",
    "#sortujemy po przyspieszeniu rosnąco\n",
    "lista_pojadzow=[opel, jakis_zlom, sportowy] \n",
    "lista_pojadzow = sorted(lista_pojadzow)\n",
    "\n",
    "for samochod in lista_pojadzow:\n",
    "    print(samochod)\n",
    "    print()\n",
    "\n",
    "bledny = Pojazd(1, 10, -80)"
   ]
  }
 ],
 "metadata": {
  "kernelspec": {
   "display_name": "Python 3",
   "language": "python",
   "name": "python3"
  },
  "language_info": {
   "codemirror_mode": {
    "name": "ipython",
    "version": 3
   },
   "file_extension": ".py",
   "mimetype": "text/x-python",
   "name": "python",
   "nbconvert_exporter": "python",
   "pygments_lexer": "ipython3",
   "version": "3.6.9"
  }
 },
 "nbformat": 4,
 "nbformat_minor": 2
}
